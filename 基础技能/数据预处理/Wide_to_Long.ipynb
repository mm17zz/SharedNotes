{
 "cells": [
  {
   "attachments": {},
   "cell_type": "markdown",
   "metadata": {},
   "source": [
    "# 宽格式转长格式"
   ]
  },
  {
   "attachments": {},
   "cell_type": "markdown",
   "metadata": {},
   "source": [
    "业务端发来一个 \"产品品类名称\" 和 \"品类名称\"的对应关系表，但打开一看是宽格式的，需要转成长格式才能喂给程序。"
   ]
  },
  {
   "cell_type": "code",
   "execution_count": 1,
   "metadata": {},
   "outputs": [
    {
     "name": "stdout",
     "output_type": "stream",
     "text": [
      "<class 'pandas.core.frame.DataFrame'>\n",
      "RangeIndex: 2478 entries, 0 to 2477\n",
      "Data columns (total 30 columns):\n",
      " #   Column   Non-Null Count  Dtype \n",
      "---  ------   --------------  ----- \n",
      " 0   id       2478 non-null   int64 \n",
      " 1   产品品类名称   2478 non-null   object\n",
      " 2   品类别名_1   2478 non-null   object\n",
      " 3   品类别名_2   141 non-null    object\n",
      " 4   品类别名_3   87 non-null     object\n",
      " 5   品类别名_4   55 non-null     object\n",
      " 6   品类别名_5   32 non-null     object\n",
      " 7   品类别名_6   25 non-null     object\n",
      " 8   品类别名_7   21 non-null     object\n",
      " 9   品类别名_8   20 non-null     object\n",
      " 10  品类别名_9   15 non-null     object\n",
      " 11  品类别名_10  13 non-null     object\n",
      " 12  品类别名_11  10 non-null     object\n",
      " 13  品类别名_12  6 non-null      object\n",
      " 14  品类别名_13  4 non-null      object\n",
      " 15  品类别名_14  4 non-null      object\n",
      " 16  品类别名_15  3 non-null      object\n",
      " 17  品类别名_16  2 non-null      object\n",
      " 18  品类别名_17  2 non-null      object\n",
      " 19  品类别名_18  2 non-null      object\n",
      " 20  品类别名_19  2 non-null      object\n",
      " 21  品类别名_20  2 non-null      object\n",
      " 22  品类别名_21  2 non-null      object\n",
      " 23  品类别名_22  2 non-null      object\n",
      " 24  品类别名_23  2 non-null      object\n",
      " 25  品类别名_24  2 non-null      object\n",
      " 26  品类别名_25  1 non-null      object\n",
      " 27  品类别名_26  1 non-null      object\n",
      " 28  品类别名_27  1 non-null      object\n",
      " 29  品类别名_28  1 non-null      object\n",
      "dtypes: int64(1), object(29)\n",
      "memory usage: 580.9+ KB\n"
     ]
    }
   ],
   "source": [
    "from QJBSL.dataset import load_excel_file\n",
    "import pandas as pd\n",
    "\n",
    "# 读取宽格式数据\n",
    "Category_relationship_WideFormat = load_excel_file('产品品类名称_品类别名_映射关系.xlsx',datapath='Example_dataset')\n",
    "Category_relationship_WideFormat.info()"
   ]
  },
  {
   "cell_type": "code",
   "execution_count": 2,
   "metadata": {},
   "outputs": [
    {
     "name": "stdout",
     "output_type": "stream",
     "text": [
      "<class 'pandas.core.frame.DataFrame'>\n",
      "Int64Index: 2936 entries, 0 to 67434\n",
      "Data columns (total 4 columns):\n",
      " #   Column  Non-Null Count  Dtype \n",
      "---  ------  --------------  ----- \n",
      " 0   id      2936 non-null   int64 \n",
      " 1   产品品类名称  2936 non-null   object\n",
      " 2   品类别名    2936 non-null   object\n",
      " 3   Value   2936 non-null   object\n",
      "dtypes: int64(1), object(3)\n",
      "memory usage: 114.7+ KB\n"
     ]
    }
   ],
   "source": [
    "\n",
    "# 将wide format的表格清洗为long format的表格\n",
    "Category_relationship_LongFormat = (\n",
    "    pd.melt(frame = Category_relationship_WideFormat, \n",
    "            id_vars=['id', '产品品类名称'], \n",
    "            var_name='品类别名', \n",
    "            value_name='Value')\n",
    "    .dropna(subset=['Value'])   #在管道中操作dropna函数不需要添加inplace=True\n",
    ")\n",
    "\n",
    "Category_relationship_LongFormat.info()"
   ]
  },
  {
   "cell_type": "code",
   "execution_count": 3,
   "metadata": {},
   "outputs": [
    {
     "data": {
      "text/html": [
       "<div>\n",
       "<style scoped>\n",
       "    .dataframe tbody tr th:only-of-type {\n",
       "        vertical-align: middle;\n",
       "    }\n",
       "\n",
       "    .dataframe tbody tr th {\n",
       "        vertical-align: top;\n",
       "    }\n",
       "\n",
       "    .dataframe thead th {\n",
       "        text-align: right;\n",
       "    }\n",
       "</style>\n",
       "<table border=\"1\" class=\"dataframe\">\n",
       "  <thead>\n",
       "    <tr style=\"text-align: right;\">\n",
       "      <th></th>\n",
       "      <th>id</th>\n",
       "      <th>产品品类名称</th>\n",
       "      <th>品类别名</th>\n",
       "      <th>Value</th>\n",
       "    </tr>\n",
       "  </thead>\n",
       "  <tbody>\n",
       "    <tr>\n",
       "      <th>0</th>\n",
       "      <td>1</td>\n",
       "      <td>Bumper</td>\n",
       "      <td>品类别名_1</td>\n",
       "      <td>Bumper</td>\n",
       "    </tr>\n",
       "    <tr>\n",
       "      <th>1</th>\n",
       "      <td>2</td>\n",
       "      <td>Headlight</td>\n",
       "      <td>品类别名_1</td>\n",
       "      <td>Head Light</td>\n",
       "    </tr>\n",
       "    <tr>\n",
       "      <th>2</th>\n",
       "      <td>3</td>\n",
       "      <td>Door Mirror</td>\n",
       "      <td>品类别名_1</td>\n",
       "      <td>Towing Mirror</td>\n",
       "    </tr>\n",
       "    <tr>\n",
       "      <th>3</th>\n",
       "      <td>4</td>\n",
       "      <td>Control Arm</td>\n",
       "      <td>品类别名_1</td>\n",
       "      <td>Suspension Stabilizer Bar</td>\n",
       "    </tr>\n",
       "    <tr>\n",
       "      <th>4</th>\n",
       "      <td>5</td>\n",
       "      <td>Grille</td>\n",
       "      <td>品类别名_1</td>\n",
       "      <td>Grill</td>\n",
       "    </tr>\n",
       "  </tbody>\n",
       "</table>\n",
       "</div>"
      ],
      "text/plain": [
       "   id       产品品类名称    品类别名                      Value\n",
       "0   1       Bumper  品类别名_1                     Bumper\n",
       "1   2    Headlight  品类别名_1                 Head Light\n",
       "2   3  Door Mirror  品类别名_1              Towing Mirror\n",
       "3   4  Control Arm  品类别名_1  Suspension Stabilizer Bar\n",
       "4   5       Grille  品类别名_1                      Grill"
      ]
     },
     "execution_count": 3,
     "metadata": {},
     "output_type": "execute_result"
    }
   ],
   "source": [
    "# 这样我们就得到了产品品类名称和品类别名的对应关系，可以导入程序中使用\n",
    "Category_relationship_LongFormat.head()"
   ]
  }
 ],
 "metadata": {
  "kernelspec": {
   "display_name": "Python 3",
   "language": "python",
   "name": "python3"
  },
  "language_info": {
   "codemirror_mode": {
    "name": "ipython",
    "version": 3
   },
   "file_extension": ".py",
   "mimetype": "text/x-python",
   "name": "python",
   "nbconvert_exporter": "python",
   "pygments_lexer": "ipython3",
   "version": "3.9.10"
  },
  "orig_nbformat": 4
 },
 "nbformat": 4,
 "nbformat_minor": 2
}
