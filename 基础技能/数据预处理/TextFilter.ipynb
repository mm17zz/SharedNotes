{
 "cells": [
  {
   "attachments": {},
   "cell_type": "markdown",
   "metadata": {},
   "source": [
    "# 正则查找，标注功能\n",
    "介绍一个使用双正则表达式筛选一句句子或者一段文本的函数，可以用于文本清洗，或者文本分析的预处理。"
   ]
  },
  {
   "cell_type": "code",
   "execution_count": 1,
   "metadata": {},
   "outputs": [],
   "source": [
    "import re\n",
    "\n",
    "def filter_regex_matches(text, primary_regex, remove_regex_list=None) -> list:\n",
    "    '''\n",
    "    使用两段正则来搜索文本中的目标关键词\n",
    "    :param text: 被搜索的文本\n",
    "    :param primary_regex: 用于搜索目标的正则\n",
    "    :param remove_regex_list: 用于排除目标的正则\n",
    "    :return: list的方式返回寻找到的目标关键词\n",
    "    '''\n",
    "    try:\n",
    "        # 使用正则表达式找出所有匹配项\n",
    "        matches = re.findall(primary_regex, text)\n",
    "\n",
    "        if remove_regex_list:\n",
    "            assert type(remove_regex_list) == list, \"remove_regex_list必须为列表类型\"\n",
    "            # 移除与remove_regex_list中任一正则表达式匹配的项\n",
    "            for regex in remove_regex_list:\n",
    "                matches = [match for match in matches if not re.search(regex, match)]\n",
    "        # 返回匹配项列表\n",
    "        return matches\n",
    "\n",
    "    except Exception as e:\n",
    "        print(f\"filter出现错误:{text} -- {e}\")\n",
    "\n",
    "\n",
    "def sub_regex_matches(text, primary_regex, remove_regex_list=None) -> str:\n",
    "    '''\n",
    "    使用两段正则来清除文本中的目标关键词\n",
    "    :param text: 被搜索的文本\n",
    "    :param primary_regex: 用于搜索目标的正则\n",
    "    :param remove_regex_list: 用于排除目标的正则\n",
    "    :return: 返回被清除干净的文本\n",
    "    '''\n",
    "    matches = filter_regex_matches(text, primary_regex, remove_regex_list)\n",
    "    try:\n",
    "        for targetWord in matches:\n",
    "            # 逐个替换匹配对\n",
    "            patternWord = r\"\\b{}\\b\".format(targetWord)\n",
    "            text = re.sub(patternWord,'',text)\n",
    "        text = re.sub(r'\\s{2,}',' ',text)\n",
    "\n",
    "        return text.strip()\n",
    "\n",
    "    except Exception as e:\n",
    "        print(f\"sub出现错误:{text} -- {e}\")\n",
    "\n",
    "\n",
    "\n",
    "def replace_regex_matches(text, primary_regex, Tag ,remove_regex_list=None, search_source=None):\n",
    "    '''\n",
    "    使用两段正则寻找文本1(search_source)中的目标关键词,同时对出现在文本2(text)中的目标关键词使用Tag进行标记\n",
    "    :param text: 被打上Tag的文本2\n",
    "    :param primary_regex: 用于搜索目标的正则\n",
    "    :param Tag: 用于标记目标的Tag\n",
    "    :param remove_regex_list: 用于排除目标的正则\n",
    "    :param search_source: 用于搜索的文本1\n",
    "    :return: 返回被清除干净的文本\n",
    "    '''\n",
    "    if search_source:\n",
    "        assert type(search_source) == str\n",
    "    try:\n",
    "        # 使用正则表达式找出所有匹配项\n",
    "        if search_source:\n",
    "            matches = filter_regex_matches(search_source, primary_regex, remove_regex_list)\n",
    "        else:\n",
    "            matches = filter_regex_matches(text, primary_regex, remove_regex_list)\n",
    "        # 返回匹配项列表\n",
    "        index_nb = 0\n",
    "        for match_object in matches: \n",
    "            index_nb += 1\n",
    "            patternWord = r\"\\b{}\\b\".format(match_object)\n",
    "            replace_txt = f\"[{Tag}_{index_nb}:{match_object}]\"\n",
    "            text = re.sub(patternWord,replace_txt,text)\n",
    "        text = re.sub(r'\\s{2,}',' ',text)\n",
    "        return text.strip()\n",
    "\n",
    "    except Exception as e:\n",
    "        print(f\"replace出现错误:{text} -- {e}\")"
   ]
  },
  {
   "attachments": {},
   "cell_type": "markdown",
   "metadata": {},
   "source": [
    "# 测试标注年份"
   ]
  },
  {
   "cell_type": "code",
   "execution_count": 2,
   "metadata": {},
   "outputs": [],
   "source": [
    "# 用于识别汽车品牌和年份的字典\n",
    "from QJBSL.dataset import load_mvl\n",
    "from QJBSL.Tool.NestedDict import get_nested_ePID_dict\n",
    "\n",
    "# 读取数据库并且设置Fitment查询顺序为：Make -> Model -> Submodel -> Year\n",
    "FITMENT_DICT = get_nested_ePID_dict(load_mvl(), col_order = ['Make', 'Model', 'Submodel','Year'])\n",
    "\n",
    "# 随便从电商网站上找了一个listing的标题作为我们的输入字符串\n",
    "title_structure = simplest_title = 'NEW 200 AMP Alternator fits Nissan Pathfinder Infiniti G35 QX4 2003-2004'"
   ]
  },
  {
   "cell_type": "code",
   "execution_count": 3,
   "metadata": {},
   "outputs": [
    {
     "data": {
      "text/plain": [
       "'NEW 200 AMP Alternator fits Nissan Pathfinder Infiniti G35 QX4 [YEAR_1:2003-2004]'"
      ]
     },
     "execution_count": 3,
     "metadata": {},
     "output_type": "execute_result"
    }
   ],
   "source": [
    "# 用于识别Year的正则组：\n",
    "regExp_YEAR = {\n",
    "    'regExp': r\"\\b(?:19|20)?\\d{2}\\s*[-]\\s*(?:19|20)?\\d{2}\\b|\\b(?:19|20)\\d{2}\\b\",\n",
    "    'regExp_excludes':r\"\\b\\d{2}\\s*[-]\\s*\\d{4}\\b|\\b\\d{4}\\s*[-]\\s*\\d{2}\\b\"\n",
    "}\n",
    "\n",
    "# 识别Year\n",
    "title_structure = (\n",
    "    replace_regex_matches(title_structure,\n",
    "                          primary_regex = regExp_YEAR.get('regExp'),\n",
    "                           Tag = 'YEAR',\n",
    "                           remove_regex_list = [regExp_YEAR.get('regExp_excludes')],\n",
    "                            search_source = title_structure)\n",
    ")\n",
    "# 展示标记效果\n",
    "title_structure\n"
   ]
  },
  {
   "attachments": {},
   "cell_type": "markdown",
   "metadata": {},
   "source": [
    "# 测试标注汽车品牌"
   ]
  },
  {
   "cell_type": "code",
   "execution_count": 4,
   "metadata": {},
   "outputs": [],
   "source": [
    "def splice_ReExp_by_wordlist_2(filter_words_list:list) -> re.Pattern:\n",
    "    '''\n",
    "    根据给定的词列表制作筛选正则表达式\n",
    "    :param filter_words_list: 包含筛选词的列表\n",
    "    :return: 返回制作好的筛选词正则表达式字符串，或者返回 None（如果出现异常）\n",
    "    -----------------------------------------------------------------------------\n",
    "    用例:FILTER_WORDS_PATTERN = re.compile(splice_ReExp_by_wordlist(filter_words_list),flags=re.I)\n",
    "    '''\n",
    "\n",
    "    # 替换原始string中的标点符号防止错误\n",
    "    def convert_symbol(match_obj):\n",
    "        if match_obj.group(1) is not None:\n",
    "            return r\"[{}]\".format(match_obj.group(1))\n",
    "\n",
    "    filter_words_list = [re.sub(r\"([^a-zA-Z0-9 \\n\\.])\", convert_symbol, x) for x in filter_words_list if x != '']\n",
    "    try:\n",
    "        # 初始化筛选词正则表达式字符串\n",
    "        return_key_word_string = ''\n",
    "        # 循环遍历除了最后一个词以外的所有词\n",
    "        for word in filter_words_list[:-1]:\n",
    "            # 将当前词添加到筛选词正则表达式字符串中，并用正则表达式标记包围\n",
    "            return_key_word_string += r\"\\b{}\\b\".format(word)\n",
    "            # 添加一个竖线，以便将每个词的正则表达式字符串组合成一个整体正则表达式\n",
    "            return_key_word_string += \"|\"\n",
    "        # 将最后一个词添加到筛选词正则表达式字符串中，并用正则表达式标记包围\n",
    "        return_key_word_string += r\"\\b{}\\b\".format(filter_words_list[-1])\n",
    "        # 返回制作好的筛选词正则表达式字符串\n",
    "        pattern = re.compile(return_key_word_string,flags=re.I)\n",
    "        return pattern\n",
    "    except Exception as e:\n",
    "        # 如果出现异常，输出错误信息，并返回 None\n",
    "        print(\"An error occurred in splicing the the long regular expression: \", e)\n",
    "        return None"
   ]
  },
  {
   "cell_type": "code",
   "execution_count": 5,
   "metadata": {},
   "outputs": [],
   "source": [
    "# 测试Make和Model相关的识别\n",
    "# # 制作正则表达式,并替换结构化标题\n",
    "\n",
    "PATTERN_Ignore_Make = splice_ReExp_by_wordlist_2(FITMENT_DICT.keys())\n",
    "\n",
    "Make_list = (\n",
    "    filter_regex_matches(simplest_title, PATTERN_Ignore_Make)\n",
    ")\n",
    "\n",
    "title_structure = (\n",
    "    replace_regex_matches(title_structure, PATTERN_Ignore_Make, 'MAKE')\n",
    ")\n",
    "simplest_title = sub_regex_matches(simplest_title, PATTERN_Ignore_Make)\n",
    "\n",
    "if Make_list:\n",
    "    Model_list = []\n",
    "    index_MAKE = 0\n",
    "    for make in Make_list:\n",
    "        index_MAKE += 1\n",
    "        model_tag = f\"MAKE_{index_MAKE}-MODEL\"\n",
    "\n",
    "        PATTERN_Ignore_Make_Model = splice_ReExp_by_wordlist_2(\n",
    "            FITMENT_DICT.get(make.lower()).keys()\n",
    "        )\n",
    "        title_structure = (\n",
    "            replace_regex_matches(title_structure, PATTERN_Ignore_Make_Model, model_tag,search_source=simplest_title)\n",
    "        )\n",
    "        Model_list.append(filter_regex_matches(simplest_title, PATTERN_Ignore_Make_Model))\n",
    "        simplest_title = sub_regex_matches(simplest_title, PATTERN_Ignore_Make_Model)\n",
    "\n",
    "        if Model_list:\n",
    "            Submodel_list = []\n",
    "            index_MODEL = 0\n",
    "            for model in Model_list:\n",
    "                index_MODEL += 1\n",
    "                submodel_tag = f\"MAKE_{index_MAKE}-MODEL_{index_MODEL}-SUBMODEL\"\n",
    "                try:\n",
    "                    PATTERN_Ignore_Make_Model_Submodel = splice_ReExp_by_wordlist_2(\n",
    "                        FITMENT_DICT\n",
    "                        .get(make.lower())\n",
    "                        .get(model.lower()).keys())\n",
    "                except:\n",
    "                    PATTERN_Ignore_Make_Model_Submodel = r'Error happens'\n",
    "\n",
    "                title_structure = (\n",
    "                    replace_regex_matches(title_structure,\n",
    "                                    PATTERN_Ignore_Make_Model_Submodel,\n",
    "                                    submodel_tag,\n",
    "                                    search_source=simplest_title)\n",
    "                )\n",
    "                simplest_title = sub_regex_matches(simplest_title, PATTERN_Ignore_Make_Model_Submodel)"
   ]
  },
  {
   "cell_type": "code",
   "execution_count": 6,
   "metadata": {},
   "outputs": [
    {
     "data": {
      "text/plain": [
       "'NEW 200 AMP Alternator fits [MAKE_1:Nissan] [MAKE_1-MODEL_1:Pathfinder] [MAKE_2:Infiniti] [MAKE_2-MODEL_1:G35] [MAKE_2-MODEL_2:QX4] [YEAR_1:2003-2004]'"
      ]
     },
     "execution_count": 6,
     "metadata": {},
     "output_type": "execute_result"
    }
   ],
   "source": [
    "# 检查汽车品牌的标注情况\n",
    "title_structure\n",
    "# 这个方法有一个劣势，字典中未保存的关键词不会被识别。随着业务的推进，我们需要积累关键词字典才可以提高准确性。"
   ]
  }
 ],
 "metadata": {
  "kernelspec": {
   "display_name": "Python 3",
   "language": "python",
   "name": "python3"
  },
  "language_info": {
   "codemirror_mode": {
    "name": "ipython",
    "version": 3
   },
   "file_extension": ".py",
   "mimetype": "text/x-python",
   "name": "python",
   "nbconvert_exporter": "python",
   "pygments_lexer": "ipython3",
   "version": "3.9.10"
  },
  "orig_nbformat": 4
 },
 "nbformat": 4,
 "nbformat_minor": 2
}
