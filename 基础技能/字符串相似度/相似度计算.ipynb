{
 "cells": [
  {
   "attachments": {},
   "cell_type": "markdown",
   "id": "44f067db",
   "metadata": {},
   "source": [
    "# 相似度计算字符串相似度计算\n",
    "功能描述：计算一个字符串与一组字符串的相似程度，返回Top N相似度的字符串及其相似度\n",
    "\n",
    "相似度计算方法：\n",
    "- 1. tokens之间的余弦相似度\n",
    "- 2. tokens之间经由预训练Bert embembedding之后的余选相似度\n",
    "- 3. tokens的TF-IDF余弦相似度 (文档相似度)"
   ]
  },
  {
   "cell_type": "code",
   "execution_count": 1,
   "id": "0e945537",
   "metadata": {},
   "outputs": [
    {
     "name": "stderr",
     "output_type": "stream",
     "text": [
      "c:\\Users\\Zhang\\AppData\\Local\\Programs\\Python\\Python39\\lib\\site-packages\\tqdm\\auto.py:22: TqdmWarning: IProgress not found. Please update jupyter and ipywidgets. See https://ipywidgets.readthedocs.io/en/stable/user_install.html\n",
      "  from .autonotebook import tqdm as notebook_tqdm\n"
     ]
    }
   ],
   "source": [
    "from nltk.stem import SnowballStemmer\n",
    "from sklearn.feature_extraction.text import CountVectorizer\n",
    "from sklearn.metrics.pairwise import cosine_similarity\n",
    "import pandas as pd\n",
    "from sentence_transformers import SentenceTransformer\n",
    "from sklearn.feature_extraction.text import TfidfVectorizer\n",
    "\n",
    "PRETRAINED_BERT = SentenceTransformer('bert-base-nli-mean-tokens')\n",
    "\n",
    "def get_potential_string(raw_string, reference, Top_N, stemming=True,mode = 'direct'):\n",
    "    '''\n",
    "    :param raw_string: 需要计算相似程度的string\n",
    "    :param reference: 被计算相似程度的参考listing, list of string\n",
    "    :param Top_N: 返回Top N个相似结果\n",
    "    :param stemming:  是否进行词干抽取，默认进行词干抽取\n",
    "    :param mode: 可选择的相似度算法,目前有direct, Bert, TF-IDF 三个功能\n",
    "    :return: (原string,pd.df)的集合\n",
    "    '''\n",
    "    # 如果启用了词干抽取，则创建一个SnowballStemmer实例，用于进行词干抽取\n",
    "    assert mode in ['direct','Bert','TF-IDF'],'请使用direct, Bert, TF-IDF'\n",
    "    if stemming:\n",
    "        stemmer = SnowballStemmer(language='english')\n",
    "        # 将输入字符串和参考字符串列表进行词干抽取\n",
    "        raw_string_stemming = ' '.join([stemmer.stem(word) for word in raw_string.split()])\n",
    "        reference_stemming = [' '.join([stemmer.stem(word) for word in category.split()]) for category in reference]\n",
    "    else:\n",
    "        raw_string_stemming = raw_string\n",
    "        reference_stemming = reference\n",
    "\n",
    "    if mode == 'direct':\n",
    "        # 创建一个CountVectorizer实例，用于将文本转换为矢量表示\n",
    "        vectorizer = CountVectorizer()\n",
    "        # 将输入字符串和参考字符串列表传递给vectorizer，生成文本的矢量表示\n",
    "        # X[0]是输入字符串的矢量表示，X[1:]是参考字符串列表的矢量表示\n",
    "        X = vectorizer.fit_transform([raw_string_stemming] + reference_stemming)\n",
    "        # 计算输入字符串和参考字符串列表中每个元素之间的余弦相似度得分\n",
    "        sim_scores = cosine_similarity(X[0], X[1:])\n",
    "\n",
    "    elif mode == 'Bert':\n",
    "        X = PRETRAINED_BERT.encode([raw_string_stemming] + reference_stemming)\n",
    "        # 计算输入字符串和参考字符串列表中每个元素之间的余弦相似度得分,这里的首个字符是list of list\n",
    "        sim_scores = cosine_similarity([X[0]], X[1:])\n",
    "\n",
    "    elif mode == 'TF-IDF':\n",
    "        tfidf_vec = TfidfVectorizer()\n",
    "        X  = tfidf_vec.fit_transform([raw_string_stemming] + reference_stemming)\n",
    "        sim_scores = cosine_similarity(X[0], X[1:])\n",
    "\n",
    "        \n",
    "    # 将字符串与每个参考字符串及其相应的相似度得分存储在一个pandas DataFrame中作为输出结果\n",
    "    Similarity_Result = (\n",
    "        pd.DataFrame(sim_scores).T\n",
    "        .assign(Potential_String=reference)\n",
    "        .sort_values(by=0, ascending=False)\n",
    "        .nlargest(Top_N, columns=0)\n",
    "        .rename(columns={0: 'Similarity_Score'})\n",
    "    )\n",
    "    return raw_string,Similarity_Result"
   ]
  },
  {
   "attachments": {},
   "cell_type": "markdown",
   "id": "b43051a9-7eef-4c2f-b8f9-5fced497f97b",
   "metadata": {},
   "source": [
    "# 读取商品的类目树数据\n",
    "类目树 即我们需要比对的参考字符串列表"
   ]
  },
  {
   "cell_type": "code",
   "execution_count": 2,
   "id": "d2453baa",
   "metadata": {},
   "outputs": [
    {
     "data": {
      "text/html": [
       "<div>\n",
       "<style scoped>\n",
       "    .dataframe tbody tr th:only-of-type {\n",
       "        vertical-align: middle;\n",
       "    }\n",
       "\n",
       "    .dataframe tbody tr th {\n",
       "        vertical-align: top;\n",
       "    }\n",
       "\n",
       "    .dataframe thead th {\n",
       "        text-align: right;\n",
       "    }\n",
       "</style>\n",
       "<table border=\"1\" class=\"dataframe\">\n",
       "  <thead>\n",
       "    <tr style=\"text-align: right;\">\n",
       "      <th></th>\n",
       "      <th>id</th>\n",
       "      <th>产品品类名称</th>\n",
       "      <th>品类别名</th>\n",
       "      <th>Value</th>\n",
       "    </tr>\n",
       "  </thead>\n",
       "  <tbody>\n",
       "    <tr>\n",
       "      <th>0</th>\n",
       "      <td>1</td>\n",
       "      <td>Bumper</td>\n",
       "      <td>品类别名_1</td>\n",
       "      <td>Bumper</td>\n",
       "    </tr>\n",
       "    <tr>\n",
       "      <th>1</th>\n",
       "      <td>2</td>\n",
       "      <td>Headlight</td>\n",
       "      <td>品类别名_1</td>\n",
       "      <td>Head Light</td>\n",
       "    </tr>\n",
       "    <tr>\n",
       "      <th>2</th>\n",
       "      <td>3</td>\n",
       "      <td>Door Mirror</td>\n",
       "      <td>品类别名_1</td>\n",
       "      <td>Towing Mirror</td>\n",
       "    </tr>\n",
       "    <tr>\n",
       "      <th>3</th>\n",
       "      <td>4</td>\n",
       "      <td>Control Arm</td>\n",
       "      <td>品类别名_1</td>\n",
       "      <td>Suspension Stabilizer Bar</td>\n",
       "    </tr>\n",
       "    <tr>\n",
       "      <th>4</th>\n",
       "      <td>5</td>\n",
       "      <td>Grille</td>\n",
       "      <td>品类别名_1</td>\n",
       "      <td>Grill</td>\n",
       "    </tr>\n",
       "    <tr>\n",
       "      <th>...</th>\n",
       "      <td>...</td>\n",
       "      <td>...</td>\n",
       "      <td>...</td>\n",
       "      <td>...</td>\n",
       "    </tr>\n",
       "    <tr>\n",
       "      <th>57568</th>\n",
       "      <td>529</td>\n",
       "      <td>Alternator Other Part</td>\n",
       "      <td>品类别名_24</td>\n",
       "      <td>Alternator Bushing</td>\n",
       "    </tr>\n",
       "    <tr>\n",
       "      <th>60048</th>\n",
       "      <td>529</td>\n",
       "      <td>Alternator Other Part</td>\n",
       "      <td>品类别名_25</td>\n",
       "      <td>Alternator Tester</td>\n",
       "    </tr>\n",
       "    <tr>\n",
       "      <th>62528</th>\n",
       "      <td>529</td>\n",
       "      <td>Alternator Other Part</td>\n",
       "      <td>品类别名_26</td>\n",
       "      <td>Alternator Cable</td>\n",
       "    </tr>\n",
       "    <tr>\n",
       "      <th>65008</th>\n",
       "      <td>529</td>\n",
       "      <td>Alternator Other Part</td>\n",
       "      <td>品类别名_27</td>\n",
       "      <td>Alternator Cover</td>\n",
       "    </tr>\n",
       "    <tr>\n",
       "      <th>67488</th>\n",
       "      <td>529</td>\n",
       "      <td>Alternator Other Part</td>\n",
       "      <td>品类别名_28</td>\n",
       "      <td>Alternator Coupler</td>\n",
       "    </tr>\n",
       "  </tbody>\n",
       "</table>\n",
       "<p>2940 rows × 4 columns</p>\n",
       "</div>"
      ],
      "text/plain": [
       "        id                 产品品类名称     品类别名                      Value\n",
       "0        1                 Bumper   品类别名_1                     Bumper\n",
       "1        2              Headlight   品类别名_1                 Head Light\n",
       "2        3            Door Mirror   品类别名_1              Towing Mirror\n",
       "3        4            Control Arm   品类别名_1  Suspension Stabilizer Bar\n",
       "4        5                 Grille   品类别名_1                      Grill\n",
       "...    ...                    ...      ...                        ...\n",
       "57568  529  Alternator Other Part  品类别名_24         Alternator Bushing\n",
       "60048  529  Alternator Other Part  品类别名_25          Alternator Tester\n",
       "62528  529  Alternator Other Part  品类别名_26           Alternator Cable\n",
       "65008  529  Alternator Other Part  品类别名_27           Alternator Cover\n",
       "67488  529  Alternator Other Part  品类别名_28         Alternator Coupler\n",
       "\n",
       "[2940 rows x 4 columns]"
      ]
     },
     "execution_count": 2,
     "metadata": {},
     "output_type": "execute_result"
    }
   ],
   "source": [
    "from QJBSL.dataset import load_Category_relationships\n",
    "category_tree = load_Category_relationships(format='Long')\n",
    "category_tree"
   ]
  },
  {
   "attachments": {},
   "cell_type": "markdown",
   "id": "062820da",
   "metadata": {},
   "source": [
    "# 直接计算余弦相似度的效果\n",
    "token化之后直接计算余弦相似度，简单暴力，在品类匹配任务中速度快，效果好。完美带使用in进行字符串比对。"
   ]
  },
  {
   "cell_type": "code",
   "execution_count": 3,
   "id": "d6212ca1-836e-4303-9f32-ab2f939ed456",
   "metadata": {},
   "outputs": [
    {
     "data": {
      "text/plain": [
       "('NEW 200 AMP Alternator fits Nissan Pathfinder Infiniti G35 QX4 2003-2004',\n",
       "       Similarity_Score     Potential_String\n",
       " 42            0.288675           Alternator\n",
       " 2927          0.288675    Alternator O-Ring\n",
       " 2939          0.204124   Alternator Coupler\n",
       " 2906          0.204124  Alternator Resistor\n",
       " 2914          0.204124      Alternator Bolt\n",
       " 2858          0.204124    Alternator Pulley)"
      ]
     },
     "execution_count": 3,
     "metadata": {},
     "output_type": "execute_result"
    }
   ],
   "source": [
    "# 随便从电商网站上找了一个listing的标题作为我们的输入字符串\n",
    "txt = 'NEW 200 AMP Alternator fits Nissan Pathfinder Infiniti G35 QX4 2003-2004'\n",
    "\n",
    "# 调用get_potential_string函数，计算输入字符串与参考字符串列表中每个元素之间的相似度得分\n",
    "result = get_potential_string(txt,                                      # 输入字符串  \n",
    "                              category_tree.get('Value').to_list(),     # 参考字符串列表\n",
    "                              Top_N = 6,                                # 返回前6个相似结果\n",
    "                              mode='direct',                            # 使用direct模式\n",
    "                              stemming=True)                            # 对字符串进行词干抽取\n",
    "result"
   ]
  },
  {
   "attachments": {},
   "cell_type": "markdown",
   "id": "75b3df1c",
   "metadata": {},
   "source": [
    "# 计算TF-IDF相似度\n",
    "\n",
    ">   TF-IDF是一种用于信息检索与文本挖掘的常用加权技术。tf-idf是一种统计方法，用以评估一字词对于一个文件集或一个语料库中的其中一份文件的重要程度。字词的重要性随着它在文件中出现的次数成正比增加，但同时会随着它在语料库中出现的频率成反比下降。tf-idf加权的各种形式常被搜索引擎应用，作为文件与用户查询之间相关程度的度量或评级。除了tf-idf以外，互联网上的搜索引擎还会使用基于链接分析的评级方法，以确定文件在搜索结果中出现的顺序。\n",
    "\n",
    "<br><p style=\"text-align:right;\"> -- <cite>[TF-IDF - 维基百科](https://zh.wikipedia.org/zh-cn/Tf-idf)</cite></p>\n",
    "\n",
    "在品类匹配的任务中,tf-idf可以较好的识别到关键词。但考虑到tf-idf对于重要的词汇的权重是根据文档数据集动态而变化的，所以其更加适合用于一批商品的标题匹配任务。\n",
    "\n"
   ]
  },
  {
   "cell_type": "code",
   "execution_count": 4,
   "id": "d56fa55a",
   "metadata": {},
   "outputs": [
    {
     "data": {
      "text/plain": [
       "('NEW 200 AMP Alternator fits Nissan Pathfinder Infiniti G35 QX4 2003-2004',\n",
       "       Similarity_Score   Potential_String\n",
       " 42            0.195594         Alternator\n",
       " 2927          0.195594  Alternator O-Ring\n",
       " 1684          0.188857   Radiator Fitting\n",
       " 2244          0.176377       Tube Fitting\n",
       " 1164          0.176377     Grease Fitting\n",
       " 1599          0.175144       Pipe Fitting)"
      ]
     },
     "execution_count": 4,
     "metadata": {},
     "output_type": "execute_result"
    }
   ],
   "source": [
    "# 随便从电商网站上找了一个listing的标题作为我们的输入字符串\n",
    "txt = 'NEW 200 AMP Alternator fits Nissan Pathfinder Infiniti G35 QX4 2003-2004'\n",
    "\n",
    "# 调用get_potential_string函数，计算输入字符串与参考字符串列表中每个元素之间的相似度得分\n",
    "result = get_potential_string(txt,                                      # 输入字符串  \n",
    "                              category_tree.get('Value').to_list(),     # 参考字符串列表\n",
    "                              Top_N = 6,                                # 返回前6个相似结果\n",
    "                              mode='TF-IDF',                            # 使用TF-IDF模式\n",
    "                              stemming=True)                            # 对字符串进行词干抽取\n",
    "result"
   ]
  },
  {
   "attachments": {},
   "cell_type": "markdown",
   "id": "5020f5d8",
   "metadata": {},
   "source": [
    "# 计算Bert Embedding之后的余弦相似度\n",
    "调用Bert的计算成本要比直接计算余弦相似度高很多，但在短字符串相似度匹配中的效果反而差了很多。可以期待其在长字符串匹配中的效果。"
   ]
  },
  {
   "cell_type": "code",
   "execution_count": 5,
   "id": "070ab4aa",
   "metadata": {},
   "outputs": [
    {
     "data": {
      "text/plain": [
       "('NEW 200 AMP Alternator fits Nissan Pathfinder Infiniti G35 QX4 2003-2004',\n",
       "       Similarity_Score              Potential_String\n",
       " 2622          0.576172              Fuel Door Bumper\n",
       " 2874          0.564890                Fender Grommet\n",
       " 1046          0.532475                   Fender Seal\n",
       " 1044          0.529691              Fender Outrigger\n",
       " 2857          0.525722                 Fender Gasket\n",
       " 70            0.523874  Fuel Injection Throttle Body)"
      ]
     },
     "execution_count": 5,
     "metadata": {},
     "output_type": "execute_result"
    }
   ],
   "source": [
    "# 随便从电商网站上找了一个listing的标题作为我们的输入字符串\n",
    "txt = 'NEW 200 AMP Alternator fits Nissan Pathfinder Infiniti G35 QX4 2003-2004'\n",
    "\n",
    "# 调用get_potential_string函数，计算输入字符串与参考字符串列表中每个元素之间的相似度得分\n",
    "result = get_potential_string(txt,                                      # 输入字符串  \n",
    "                              category_tree.get('Value').to_list(),     # 参考字符串列表\n",
    "                              Top_N = 6,                                # 返回前6个相似结果\n",
    "                              mode='Bert',                              # 使用Bert Embedding\n",
    "                              stemming=True)                            # 对字符串进行词干抽取\n",
    "result"
   ]
  }
 ],
 "metadata": {
  "kernelspec": {
   "display_name": "Python 3 (ipykernel)",
   "language": "python",
   "name": "python3"
  },
  "language_info": {
   "codemirror_mode": {
    "name": "ipython",
    "version": 3
   },
   "file_extension": ".py",
   "mimetype": "text/x-python",
   "name": "python",
   "nbconvert_exporter": "python",
   "pygments_lexer": "ipython3",
   "version": "3.9.10"
  }
 },
 "nbformat": 4,
 "nbformat_minor": 5
}
